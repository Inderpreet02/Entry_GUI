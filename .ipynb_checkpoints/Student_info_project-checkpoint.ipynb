{
 "cells": [
  {
   "cell_type": "code",
   "execution_count": 45,
   "metadata": {},
   "outputs": [],
   "source": [
    "from tkinter import *\n",
    "from tkinter import font\n",
    "from tkinter import filedialog\n",
    "import shelve\n",
    "import pickle\n",
    "\n",
    "HEIGHT = 200\n",
    "WIDTH = 500\n",
    "\n",
    "\n",
    "def save_pick():\n",
    "    with open(\"student_info_pick.pkl\", \"ab\") as pick_file:\n",
    "        d[\"name\"] = entry_name1.get()\n",
    "        d[\"rollno\"] = entry_name2.get()\n",
    "        d[\"percentage\"] = entry_name3.get()\n",
    "        data = pickle.load(pick_file)\n",
    "        data[rollno] = d\n",
    "        pickle.dump(student, pick_file)\n",
    "#         student.clear()\n",
    "#         d.clear()\n",
    "\n",
    "\n",
    "def save():\n",
    "    try:\n",
    "        name = entry_name1.get()\n",
    "        rollno = entry_name2.get()\n",
    "        percentage = entry_name3.get()\n",
    "        status[\"text\"] = \"File has been saved\"\n",
    "        \n",
    "        f = open(\"student_info.txt\", \"a\")\n",
    "        d[\"name\"] = name\n",
    "        d[\"rollno\"] = rollno\n",
    "        d[\"percentage\"] = percentage\n",
    "        student[rollno] = d\n",
    "        f.write(str(student) + \"\\n\")\n",
    "        f.close()\n",
    "        \n",
    "        name = entry_name1.get()\n",
    "        rollno = entry_name2.get()\n",
    "        percentage = entry_name3.get()        \n",
    "        x = shelve.open(\"student_info\")\n",
    "        d[\"name\"] = name\n",
    "        d[\"rollno\"] = rollno\n",
    "        d[\"percentage\"] = percentage\n",
    "        x[rollno] = d\n",
    "        x.close()\n",
    "        \n",
    "        student.clear()\n",
    "        d.clear()\n",
    "#         save_pick()\n",
    "#         with open(\"student_info_pick.pkl\", \"ab\") as pickle_file:\n",
    "#             pickle.dump(student, pickle_file) \n",
    "        \n",
    "    except:\n",
    "        status[\"text\"] = \"Error: Try again \"\n",
    "        \n",
    "    \n",
    "def clear():\n",
    "    status[\"text\"] = \"Entries have been reset\"\n",
    "    entry_name1.delete(0, END)\n",
    "    entry_name2.delete(0, END)\n",
    "    entry_name3.delete(0, END)\n",
    "    \n",
    "    \n",
    "def browse():\n",
    "    filename = filedialog.askopenfilename(initialdir = r\"C:\\Users\\Home\\Python_notebooks\", title = \"Select a File\")\n",
    "    status[\"text\"] = \"File opened: \" + filename\n",
    "    \n",
    "    \n",
    "def search():\n",
    "    try:\n",
    "        with shelve.open(\"student_info\") as data:\n",
    "            value = entry_name2.get()\n",
    "            x = data[value]\n",
    "            output = x\n",
    "            name1 = x[\"name\"]\n",
    "            rollno1 = x[\"rollno\"]\n",
    "            percentage1 = x[\"percentage\"]\n",
    "            \n",
    "            status[\"text\"] = output\n",
    "            \n",
    "            \n",
    "#         with open(\"student_info_pick.pkl\", \"rb\") as pickle_file:\n",
    "#             data = pickle.load(pickle_file)\n",
    "    #         output = data[value]\n",
    "    #         print(output)\n",
    "    #         status[\"text\"] = output\n",
    "    except:\n",
    "        status[\"text\"] = \"Roll no. not found\"\n",
    "    \n",
    "    \n",
    "d = {}\n",
    "student = {}\n",
    "\n",
    "root = Tk()\n",
    "root.title(\"Student Records\")\n",
    "\n",
    "canvas = Canvas(root, height = HEIGHT, width = WIDTH)\n",
    "canvas.pack()\n",
    "\n",
    "frame = Frame(root)\n",
    "frame.place(relheight = 1, relwidth = 1)\n",
    "\n",
    "label = Label(frame, text = \"Enter your info\", font = \"Italic, 16\")\n",
    "label.place(relx = 0.25, rely = 0, relwidth = 0.5)\n",
    "\n",
    "label_name1 = Label(frame, text = \"Name\", font = \"20\")\n",
    "label_name1.place(relx = 0, rely = 0.2, relwidth = 0.2, relheight = 0.1)\n",
    "\n",
    "entry_name1 = Entry(frame)\n",
    "entry_name1.place(relx = 0.3, rely = 0.2, relwidth = 0.6, relheight = 0.1)\n",
    "\n",
    "label_name2 = Label(frame, text = \"Roll No.\", font = \"20\")\n",
    "label_name2.place(relx = 0, rely = 0.4, relwidth = 0.2, relheight = 0.1)\n",
    "\n",
    "entry_name2 = Entry(frame)\n",
    "entry_name2.place(relx = 0.3, rely = 0.4, relwidth = 0.6, relheight = 0.1)\n",
    "\n",
    "label_name3 = Label(frame, text = \"Percentage\", font = \"20\")\n",
    "label_name3.place(relx = 0, rely = 0.6, relwidth = 0.2, relheight = 0.1)\n",
    "\n",
    "entry_name3 = Entry(frame)\n",
    "entry_name3.place(relx = 0.3, rely = 0.6, relwidth = 0.6, relheight = 0.1)\n",
    "\n",
    "button_save = Button(frame, text = \"Save\", bd = 2, command = save)\n",
    "button_save.place(relx = 0, rely = 0.8, relwidth = 0.2, relheight = 0.1)\n",
    "\n",
    "button_reset = Button(frame, text = \"Reset\", bd = 2, command = clear)\n",
    "button_reset.place(relx = 0.8, rely =0.8, relwidth = 0.2, relheight = 0.1)\n",
    "\n",
    "button_browse = Button(frame, text = \"Browse\", bd = 2, command = browse)\n",
    "button_browse.place(relx = 0.55, rely = 0.8, relwidth = 0.15, relheight = 0.1)\n",
    "\n",
    "button_search = Button(frame, text = \"Search\", bd = 2, command = search)\n",
    "button_search.place(relx = 0.3, rely = 0.8, relwidth = 0.15, relheight = 0.1)\n",
    "\n",
    "status_text = Label(frame, text = \"Status\", relief = \"ridge\", bd = 2, font = (\"Italic\", 10, \"bold\"))\n",
    "status_text.place(relx = 0, rely = 0.9, relwidth = 0.2)\n",
    "\n",
    "status = Label(frame,text = \"Welcome!\", relief = \"ridge\", bd = 2, font = (\"Italic\", 10, \"bold\"))\n",
    "status.place(relx = 0.2,rely = 0.9, relwidth = 0.8)\n",
    "\n",
    "root.mainloop()"
   ]
  },
  {
   "cell_type": "code",
   "execution_count": 33,
   "metadata": {},
   "outputs": [],
   "source": [
    "f = open(\"student_info_pick.pkl\", \"wb\")\n",
    "f.close()"
   ]
  },
  {
   "cell_type": "code",
   "execution_count": 33,
   "metadata": {},
   "outputs": [
    {
     "data": {
      "text/plain": [
       "{'1': {'name': 'data', 'rollno': '-1', 'percentage': 'None'}}"
      ]
     },
     "execution_count": 33,
     "metadata": {},
     "output_type": "execute_result"
    }
   ],
   "source": [
    "import shelve\n",
    "x = shelve.open(\"student_info\")\n",
    "d = {'name': 'data', 'rollno': '-1', 'percentage': 'None'}\n",
    "x[\"1\"] = d\n",
    "dict(x)"
   ]
  },
  {
   "cell_type": "code",
   "execution_count": 35,
   "metadata": {},
   "outputs": [],
   "source": [
    "x = shelve.open(\"student_info\")\n",
    "d = {'name':\"sadadasd\",\"rollno\":\"dfsfdsf\",\"per\":\"dasdasda\"}\n",
    "x[\"2\"] = d\n"
   ]
  },
  {
   "cell_type": "code",
   "execution_count": 40,
   "metadata": {},
   "outputs": [
    {
     "data": {
      "text/plain": [
       "{}"
      ]
     },
     "execution_count": 40,
     "metadata": {},
     "output_type": "execute_result"
    }
   ],
   "source": [
    "x = shelve.open(\"student_info\")\n",
    "dict(x)"
   ]
  },
  {
   "cell_type": "code",
   "execution_count": 6,
   "metadata": {},
   "outputs": [],
   "source": [
    "import pickle\n",
    "d = {'123': {'name': 'data', 'rollno': '-1', 'percentage': 'None'}}\n",
    "d[\"123\"][\"name\"]\n",
    "\n",
    "f = open(\"student_info_pick.pkl\", \"wb\")\n",
    "pickle.dump(d, f)\n",
    "f.close()"
   ]
  },
  {
   "cell_type": "code",
   "execution_count": 22,
   "metadata": {},
   "outputs": [],
   "source": [
    "import pickle\n",
    "with open(\"student_info_pick.pkl\", \"rb\") as data:\n",
    "    d = pickle.load(data)\n",
    "    rollno = \"2\"\n",
    "    name = \"abc\"\n",
    "    percentage = \"78\"\n",
    "    data = {\"name\":name, \"rollno\":rollno, \"percentage\":percentage}\n",
    "    d[rollno] = data\n",
    "    \n",
    "with open(\"student_info_pick.pkl\", \"wb\") as f:\n",
    "    pickle.dump(data, f)\n",
    "    "
   ]
  }
 ],
 "metadata": {
  "kernelspec": {
   "display_name": "Python 3",
   "language": "python",
   "name": "python3"
  },
  "language_info": {
   "codemirror_mode": {
    "name": "ipython",
    "version": 3
   },
   "file_extension": ".py",
   "mimetype": "text/x-python",
   "name": "python",
   "nbconvert_exporter": "python",
   "pygments_lexer": "ipython3",
   "version": "3.8.3"
  }
 },
 "nbformat": 4,
 "nbformat_minor": 4
}
